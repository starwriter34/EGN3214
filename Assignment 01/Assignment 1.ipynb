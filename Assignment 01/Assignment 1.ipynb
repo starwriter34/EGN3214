{
 "metadata": {
  "language_info": {
   "codemirror_mode": {
    "name": "ipython",
    "version": 3
   },
   "file_extension": ".py",
   "mimetype": "text/x-python",
   "name": "python",
   "nbconvert_exporter": "python",
   "pygments_lexer": "ipython3",
   "version": "3.8.0-final"
  },
  "orig_nbformat": 2,
  "kernelspec": {
   "name": "python_defaultSpec_1598295306885",
   "display_name": "Python 3.8.0 32-bit"
  }
 },
 "nbformat": 4,
 "nbformat_minor": 2,
 "cells": [
  {
   "cell_type": "markdown",
   "metadata": {},
   "source": [
    "# UTM Coordinate Calulation\n"
   ]
  },
  {
   "cell_type": "markdown",
   "metadata": {},
   "source": [
    "## Introduction\n",
    "\n",
    "The purpose of this exercise is to learn if/then of the Python language, as well, as creating functions.\n"
   ]
  },
  {
   "cell_type": "markdown",
   "metadata": {},
   "source": [
    "## Problem Statement\n",
    "\n",
    "Using Python to solve UTM Bearing and Distance. We will be using multiple values of n1, n2, e1, and e2 and calculate the distance and bearing. Additional useful varaibles are eastings, northings, and totaldist. \n"
   ]
  },
  {
   "cell_type": "markdown",
   "metadata": {},
   "source": [
    "## Methodolgy\n",
    "\n",
    "To calulate the distance in kilometers the following formula is used: $d=\\frac{\\sqrt{(n_2-n_1)^2+(e_2-e_1)^2}}{1000}$\n",
    "> Python Code:\n",
    "> \n",
    "> d = math.sqrt((n2-n1)**2+(e2-e1)**2)/1000\n",
    "\n",
    "To calulate the bearing and covert to degrees the following formular is used: $b=\\arctan{(n_2-n_1)/(e_2-e_1)}*\\frac{180}{\\pi}$\n",
    "> Python Code:\n",
    "> \n",
    "> b = math.degrees(math.atan((n2-n1)/(e2-e1)))\n",
    "\n",
    "To calulate the eastings and northings the following formula is used: $eastings=(e2-e1) \\land northings={(n2-n1)}$\n",
    "> Python Code:\n",
    "> \n",
    "> eastings = e2-e1 <br>\n",
    "> northings = n2-n1\n",
    "\n",
    "The totaldist formula is a sum of all the distances from the assignment coordinates. $\\sum_{n=1}^{\\infty} {d_1 + d_n ...}$\n",
    "> Python Code:\n",
    ">\n",
    "> print(f'Total Traveled Distance is **{sum(totaldist):.3f}** kilometers')\n",
    "\n",
    "$n_1, e_1$ Home Coordinate\n",
    "\n",
    "$n_2, e_2$ Measure To Coordinate"
   ]
  },
  {
   "cell_type": "code",
   "execution_count": null,
   "metadata": {},
   "outputs": [],
   "source": []
  },
  {
   "cell_type": "markdown",
   "metadata": {},
   "source": [
    "## Solution\n",
    "\n",
    "The followling execution of the code gives the following values for distance and bearing.\n",
    "\n"
   ]
  },
  {
   "cell_type": "code",
   "execution_count": null,
   "metadata": {},
   "outputs": [],
   "source": [
    "'''\n",
    "Chris Oakley\n",
    "Distnace/Bearing\n",
    "08/24/2020\n",
    "EGN3214 - Assignment 1\n",
    "\n",
    "Calulate the Distance in kilometers, and return the angle of the bearing in degrees.\n",
    "\n",
    "Variables:\n",
    "\n",
    "e1, n1 - Starting Point\n",
    "e2, n2 - End Point\n",
    "b - Bearing in degrees\n",
    "d - Distance in kilometers\n",
    "eastings - Distance traveled or measured eastward\n",
    "northings - Distance traveled or measured northward\n",
    "quadrent - What quadrent the bearing is in\n",
    "\n",
    "Quad Setup for Bearings\n",
    "(4) E-, N+      |   (1) E+, N+\n",
    "    360-Bearing |       No Change\n",
    "                |\n",
    "---------------------------------\n",
    "(3) E-, N-      |   (2) E+, N-\n",
    "    Bearing+180 |       180-Bearing\n",
    "                |\n",
    "\n",
    "'''\n",
    "import math\n",
    "\n",
    "def calculateDB(e1, n1, e2, n2):\n",
    "\n",
    "    b = 0\n",
    "    d = math.sqrt((n2-n1)**2+(e2-e1)**2)/1000\n",
    "    eastings = e2-e1\n",
    "    northings = n2-n1\n",
    "\n",
    "    if eastings > 0 and northings > 0:\n",
    "        quadrant = 'First Quadrant E+, N+'\n",
    "        b = math.degrees(math.atan((e2-e1)/(n2-n1)))\n",
    "    elif eastings > 0 and northings < 0:\n",
    "        quadrant = 'Second Quadrant E+, N-'\n",
    "        b = 180+math.degrees(math.atan((e2-e1)/(n2-n1)))\n",
    "    elif eastings < 0 and northings < 0:\n",
    "        quadrant = 'Third Quadrant E-, N-'\n",
    "        b = 180+math.degrees(math.atan((e2-e1)/(n2-n1)))\n",
    "    elif eastings < 0 and northings > 0:\n",
    "        quadrant = 'Fourth Quadrant E-, N+'\n",
    "        b = 360 + math.degrees(math.atan((e2-e1)/(n2-n1)))\n",
    "\n",
    "    return d, b, eastings, northings, quadrant\n",
    "'''\n",
    "Either calls all coordinates listed in the assignment with a traveled distance or\n",
    "allows the user to input two sets of coordinates. Then prints the output to the terminal.\n",
    "'''\n",
    "\n",
    "while True:\n",
    "    question = input('Enter Eastings and Northings (M)anually or use (A)ssignment Coordinates (M or A)?').upper()\n",
    "\n",
    "    if question == 'A':\n",
    "        coordlist = [\n",
    "        [511005, 3208379, 509938, 3208346, 'Browns Bay Canoe Launch to Sign 3/8'],\n",
    "        [509938, 3208346, 509948, 3208025, 'Sign 3/8 to Sign 4/7'],\n",
    "        [509948, 3208025, 510284, 3208171, 'Sign 4/7 to Sign 5/6'],\n",
    "        [510284, 3208171, 510397, 3208018, 'Sign 5/6 to Sign 6/5'],\n",
    "        [510397, 3208018, 511005, 3208379, 'Sign 6/5 to Browns Bay Canoe Launch'],\n",
    "        ]\n",
    "\n",
    "        totaldist = []\n",
    "        print() # Blank line to Start\n",
    "        print('#'*50)\n",
    "        for item in coordlist:\n",
    "            \n",
    "            d, b, eastings, northings, quadrant = calculateDB(item[0], item[1], item[2], item[3])\n",
    "            print(item[4])\n",
    "            print(quadrant)\n",
    "            print(f'Eastings {eastings}')\n",
    "            print(f'Northings {northings}')\n",
    "            print(f'Distance: {d:.3f} kilometers\\nBearing: {b:.3f}\\xb0 Degrees')\n",
    "            print()\n",
    "            totaldist.append(d)  \n",
    "            \n",
    "        print(f'Total Traveled Distance is {sum(totaldist):.3f} kilometers')\n",
    "        print('#'*50)\n",
    "        break\n",
    "    elif question == 'M':\n",
    "        e1 = int(input('Enter Eastings Starting Point: '))\n",
    "        n1 = int(input('Enter Northings Starting Point: '))\n",
    "        e2 = int(input('Enter Eastings Ending Point: '))\n",
    "        n2 = int(input('Enter Northings Ending Point: '))\n",
    "\n",
    "        d, b, eastings, northings, quadrant = calculateDB(e1, n1, e2, n2)\n",
    "        \n",
    "        print('#'*50)\n",
    "        print(quadrant)\n",
    "        print(f'Eastings {eastings}')\n",
    "        print(f'Northings {northings}')\n",
    "        print(f'Distance: {d:.3f} kilometers\\nBearing: {b:.3f}\\xb0 Degrees')\n",
    "        print()\n",
    "        print('#'*50)\n",
    "        break\n",
    "    else:\n",
    "        print('Enter a valid option.')"
   ]
  },
  {
   "cell_type": "markdown",
   "metadata": {},
   "source": [
    "## Conclusion\n",
    "\n",
    "type some good here."
   ]
  }
 ]
}